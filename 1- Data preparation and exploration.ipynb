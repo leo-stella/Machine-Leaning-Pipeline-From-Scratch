{
  "nbformat": 4,
  "nbformat_minor": 0,
  "metadata": {
    "colab": {
      "provenance": []
    },
    "kernelspec": {
      "name": "python3",
      "display_name": "Python 3"
    },
    "language_info": {
      "name": "python"
    }
  },
  "cells": [
    {
      "cell_type": "code",
      "metadata": {
        "colab": {
          "base_uri": "https://localhost:8080/"
        },
        "id": "uVicuymx64yS",
        "outputId": "bb935b90-b3c4-4794-b568-6e0d8409f408"
      },
      "source": [
        "# Load CSV Using Python Standard Library\n",
        "import csv\n",
        "import numpy\n",
        "filename = 'pima-indians-diabetes.data.csv'\n",
        "raw_data = open(filename, 'rt')\n",
        "reader = csv.reader(raw_data, delimiter=',', quoting=csv.QUOTE_NONE)\n",
        "x = list(reader)\n",
        "data = numpy.array(x).astype('float')\n",
        "print(data.shape)"
      ],
      "execution_count": null,
      "outputs": [
        {
          "output_type": "stream",
          "name": "stdout",
          "text": [
            "(768, 9)\n"
          ]
        }
      ]
    },
    {
      "cell_type": "code",
      "metadata": {
        "colab": {
          "base_uri": "https://localhost:8080/"
        },
        "id": "BK43zVa17KJh",
        "outputId": "092818a9-9bf6-4a73-a574-a30b3b7a0313"
      },
      "source": [
        "# Load CSV using NumPy\n",
        "from numpy import loadtxt\n",
        "filename = 'pima-indians-diabetes.data.csv'\n",
        "raw_data = open(filename, 'rt')\n",
        "data = loadtxt(raw_data, delimiter=\",\")\n",
        "print(data.shape)"
      ],
      "execution_count": null,
      "outputs": [
        {
          "output_type": "stream",
          "name": "stdout",
          "text": [
            "(768, 9)\n"
          ]
        }
      ]
    },
    {
      "cell_type": "code",
      "source": [
        "# Load CSV from URL using NumPy\n",
        "from numpy import loadtxt\n",
        "from urllib import urlopen\n",
        "url = 'https://www.kaggle.com/datasets/kumargh/pimaindiansdiabetescsv'\n",
        "raw_data = urlopen(url)\n",
        "dataset = loadtxt(raw_data, delimiter=\",\") \n",
        "print(dataset.shape)"
      ],
      "metadata": {
        "id": "SBhDCPS56gwA"
      },
      "execution_count": null,
      "outputs": []
    },
    {
      "cell_type": "code",
      "metadata": {
        "colab": {
          "base_uri": "https://localhost:8080/"
        },
        "id": "m54blQYc70Eb",
        "outputId": "d1b2260b-5cf8-4c6a-dca6-c74cd83fee43"
      },
      "source": [
        "# Load CSV using Pandas\n",
        "from pandas import read_csv\n",
        "filename = 'pima-indians-diabetes.data.csv'\n",
        "names = ['preg', 'plas', 'pres', 'skin', 'test', 'mass', 'pedi', 'age', 'class']\n",
        "data = read_csv(filename, names=names)\n",
        "print(data.shape)\n"
      ],
      "execution_count": null,
      "outputs": [
        {
          "output_type": "stream",
          "name": "stdout",
          "text": [
            "(768, 9)\n"
          ]
        }
      ]
    },
    {
      "cell_type": "code",
      "source": [
        "# Load CSV using Pandas from URL\n",
        "from pandas import read_csv\n",
        "url = 'https://www.kaggle.com/datasets/kumargh/pimaindiansdiabetescsv'\n",
        "names = ['preg', 'plas', 'pres', 'skin', 'test', 'mass', 'pedi', 'age', 'class'] \n",
        "data = read_csv(url, names=names)\n",
        "print(data.shape)"
      ],
      "metadata": {
        "id": "70wFhQpb6rFT"
      },
      "execution_count": null,
      "outputs": []
    },
    {
      "cell_type": "code",
      "metadata": {
        "colab": {
          "base_uri": "https://localhost:8080/"
        },
        "id": "Hjr9aNDQ9UFh",
        "outputId": "1489c702-89cb-4e7a-a902-263c2bba736e"
      },
      "source": [
        "# View first 20 rows\n",
        "from pandas import read_csv\n",
        "filename = \"pima-indians-diabetes.data.csv\"\n",
        "names = ['preg', 'plas', 'pres', 'skin', 'test', 'mass', 'pedi', 'age', 'class']\n",
        "data = read_csv(filename, names=names)\n",
        "peek = data.head(20)\n",
        "print(peek)"
      ],
      "execution_count": null,
      "outputs": [
        {
          "output_type": "stream",
          "name": "stdout",
          "text": [
            "    preg  plas  pres  skin  test  mass   pedi  age  class\n",
            "0      6   148    72    35     0  33.6  0.627   50      1\n",
            "1      1    85    66    29     0  26.6  0.351   31      0\n",
            "2      8   183    64     0     0  23.3  0.672   32      1\n",
            "3      1    89    66    23    94  28.1  0.167   21      0\n",
            "4      0   137    40    35   168  43.1  2.288   33      1\n",
            "5      5   116    74     0     0  25.6  0.201   30      0\n",
            "6      3    78    50    32    88  31.0  0.248   26      1\n",
            "7     10   115     0     0     0  35.3  0.134   29      0\n",
            "8      2   197    70    45   543  30.5  0.158   53      1\n",
            "9      8   125    96     0     0   0.0  0.232   54      1\n",
            "10     4   110    92     0     0  37.6  0.191   30      0\n",
            "11    10   168    74     0     0  38.0  0.537   34      1\n",
            "12    10   139    80     0     0  27.1  1.441   57      0\n",
            "13     1   189    60    23   846  30.1  0.398   59      1\n",
            "14     5   166    72    19   175  25.8  0.587   51      1\n",
            "15     7   100     0     0     0  30.0  0.484   32      1\n",
            "16     0   118    84    47   230  45.8  0.551   31      1\n",
            "17     7   107    74     0     0  29.6  0.254   31      1\n",
            "18     1   103    30    38    83  43.3  0.183   33      0\n",
            "19     1   115    70    30    96  34.6  0.529   32      1\n"
          ]
        }
      ]
    },
    {
      "cell_type": "code",
      "metadata": {
        "colab": {
          "base_uri": "https://localhost:8080/"
        },
        "id": "e-eZf-m29ogP",
        "outputId": "1274976f-5a14-40b3-a50e-b94db9a8808c"
      },
      "source": [
        "# Dimensions of data\n",
        "from pandas import read_csv\n",
        "filename = \"pima-indians-diabetes.data.csv\"\n",
        "names = ['preg', 'plas', 'pres', 'skin', 'test', 'mass', 'pedi', 'age', 'class']\n",
        "data = read_csv(filename, names=names)\n",
        "shape = data.shape\n",
        "print(shape)"
      ],
      "execution_count": null,
      "outputs": [
        {
          "output_type": "stream",
          "name": "stdout",
          "text": [
            "(768, 9)\n"
          ]
        }
      ]
    },
    {
      "cell_type": "code",
      "metadata": {
        "colab": {
          "base_uri": "https://localhost:8080/"
        },
        "id": "9ANSpMQ89why",
        "outputId": "4297ff05-f504-4383-fe8f-fa8b1e771db6"
      },
      "source": [
        "# Data Types for Each Attribute\n",
        "from pandas import read_csv\n",
        "filename = \"pima-indians-diabetes.data.csv\"\n",
        "names = ['preg', 'plas', 'pres', 'skin', 'test', 'mass', 'pedi', 'age', 'class']\n",
        "data = read_csv(filename, names=names)\n",
        "types = data.dtypes\n",
        "print(types)"
      ],
      "execution_count": null,
      "outputs": [
        {
          "output_type": "stream",
          "name": "stdout",
          "text": [
            "preg       int64\n",
            "plas       int64\n",
            "pres       int64\n",
            "skin       int64\n",
            "test       int64\n",
            "mass     float64\n",
            "pedi     float64\n",
            "age        int64\n",
            "class      int64\n",
            "dtype: object\n"
          ]
        }
      ]
    },
    {
      "cell_type": "code",
      "metadata": {
        "colab": {
          "base_uri": "https://localhost:8080/"
        },
        "id": "uliA8l9qVmT1",
        "outputId": "ee10900a-0b63-4a74-ca3d-f40fbeb97a33"
      },
      "source": [
        "# Statistical Summary\n",
        "from pandas import read_csv\n",
        "from pandas import set_option\n",
        "filename = \"pima-indians-diabetes.data.csv\"\n",
        "names = ['preg', 'plas', 'pres', 'skin', 'test', 'mass', 'pedi', 'age', 'class']\n",
        "data = read_csv(filename, names=names)\n",
        "set_option('display.width', 100)\n",
        "set_option('precision', 2)\n",
        "description = data.describe()\n",
        "print(description)"
      ],
      "execution_count": null,
      "outputs": [
        {
          "output_type": "stream",
          "name": "stdout",
          "text": [
            "         preg    plas    pres    skin    test    mass    pedi     age   class\n",
            "count  768.00  768.00  768.00  768.00  768.00  768.00  768.00  768.00  768.00\n",
            "mean     3.85  120.89   69.11   20.54   79.80   31.99    0.47   33.24    0.35\n",
            "std      3.37   31.97   19.36   15.95  115.24    7.88    0.33   11.76    0.48\n",
            "min      0.00    0.00    0.00    0.00    0.00    0.00    0.08   21.00    0.00\n",
            "25%      1.00   99.00   62.00    0.00    0.00   27.30    0.24   24.00    0.00\n",
            "50%      3.00  117.00   72.00   23.00   30.50   32.00    0.37   29.00    0.00\n",
            "75%      6.00  140.25   80.00   32.00  127.25   36.60    0.63   41.00    1.00\n",
            "max     17.00  199.00  122.00   99.00  846.00   67.10    2.42   81.00    1.00\n"
          ]
        }
      ]
    },
    {
      "cell_type": "code",
      "metadata": {
        "colab": {
          "base_uri": "https://localhost:8080/"
        },
        "id": "Gd6zM3GvWHfx",
        "outputId": "67ee3c1b-983a-42f3-9ee3-fcd740271288"
      },
      "source": [
        "# Class Distribution\n",
        "from pandas import read_csv\n",
        "filename = \"pima-indians-diabetes.data.csv\"\n",
        "names = ['preg', 'plas', 'pres', 'skin', 'test', 'mass', 'pedi', 'age', 'class']\n",
        "data = read_csv(filename, names=names)\n",
        "class_counts = data.groupby('class').size()\n",
        "print(class_counts)"
      ],
      "execution_count": null,
      "outputs": [
        {
          "output_type": "stream",
          "name": "stdout",
          "text": [
            "class\n",
            "0    500\n",
            "1    268\n",
            "dtype: int64\n"
          ]
        }
      ]
    },
    {
      "cell_type": "code",
      "metadata": {
        "colab": {
          "base_uri": "https://localhost:8080/"
        },
        "id": "syy3qrWdX8vo",
        "outputId": "d287e98a-406d-4837-8b72-c158ab90d420"
      },
      "source": [
        "# Pairwise Pearson correlations\n",
        "from pandas import read_csv\n",
        "from pandas import set_option\n",
        "filename = \"pima-indians-diabetes.data.csv\"\n",
        "names = ['preg', 'plas', 'pres', 'skin', 'test', 'mass', 'pedi', 'age', 'class']\n",
        "data = read_csv(filename, names=names)\n",
        "set_option('display.width', 100)\n",
        "set_option('precision', 3)\n",
        "correlations = data.corr(method='pearson')\n",
        "print(correlations)"
      ],
      "execution_count": null,
      "outputs": [
        {
          "output_type": "stream",
          "name": "stdout",
          "text": [
            "        preg   plas   pres   skin   test   mass   pedi    age  class\n",
            "preg   1.000  0.129  0.141 -0.082 -0.074  0.018 -0.034  0.544  0.222\n",
            "plas   0.129  1.000  0.153  0.057  0.331  0.221  0.137  0.264  0.467\n",
            "pres   0.141  0.153  1.000  0.207  0.089  0.282  0.041  0.240  0.065\n",
            "skin  -0.082  0.057  0.207  1.000  0.437  0.393  0.184 -0.114  0.075\n",
            "test  -0.074  0.331  0.089  0.437  1.000  0.198  0.185 -0.042  0.131\n",
            "mass   0.018  0.221  0.282  0.393  0.198  1.000  0.141  0.036  0.293\n",
            "pedi  -0.034  0.137  0.041  0.184  0.185  0.141  1.000  0.034  0.174\n",
            "age    0.544  0.264  0.240 -0.114 -0.042  0.036  0.034  1.000  0.238\n",
            "class  0.222  0.467  0.065  0.075  0.131  0.293  0.174  0.238  1.000\n"
          ]
        }
      ]
    },
    {
      "cell_type": "code",
      "metadata": {
        "colab": {
          "base_uri": "https://localhost:8080/"
        },
        "id": "rzraHE67YR98",
        "outputId": "3b5a6026-21f4-4af0-ae54-b806f0f5d67c"
      },
      "source": [
        "# Skew for each attribute\n",
        "from pandas import read_csv\n",
        "filename = \"pima-indians-diabetes.data.csv\"\n",
        "names = ['preg', 'plas', 'pres', 'skin', 'test', 'mass', 'pedi', 'age', 'class']\n",
        "data = read_csv(filename, names=names)\n",
        "skew = data.skew()\n",
        "print(skew)"
      ],
      "execution_count": null,
      "outputs": [
        {
          "output_type": "stream",
          "name": "stdout",
          "text": [
            "preg     0.902\n",
            "plas     0.174\n",
            "pres    -1.844\n",
            "skin     0.109\n",
            "test     2.272\n",
            "mass    -0.429\n",
            "pedi     1.920\n",
            "age      1.130\n",
            "class    0.635\n",
            "dtype: float64\n"
          ]
        }
      ]
    },
    {
      "cell_type": "code",
      "metadata": {
        "colab": {
          "base_uri": "https://localhost:8080/"
        },
        "id": "VOESCeLkf6Qy",
        "outputId": "f0fe5f97-0ebf-4ca9-fd49-535ab470e331"
      },
      "source": [
        "# Info\n",
        "from pandas import read_csv\n",
        "filename = \"pima-indians-diabetes.data.csv\"\n",
        "names = ['preg', 'plas', 'pres', 'skin', 'test', 'mass', 'pedi', 'age', 'class']\n",
        "data = read_csv(filename, names=names)\n",
        "info = data.info()\n",
        "print(info)"
      ],
      "execution_count": null,
      "outputs": [
        {
          "output_type": "stream",
          "name": "stdout",
          "text": [
            "<class 'pandas.core.frame.DataFrame'>\n",
            "RangeIndex: 768 entries, 0 to 767\n",
            "Data columns (total 9 columns):\n",
            " #   Column  Non-Null Count  Dtype  \n",
            "---  ------  --------------  -----  \n",
            " 0   preg    768 non-null    int64  \n",
            " 1   plas    768 non-null    int64  \n",
            " 2   pres    768 non-null    int64  \n",
            " 3   skin    768 non-null    int64  \n",
            " 4   test    768 non-null    int64  \n",
            " 5   mass    768 non-null    float64\n",
            " 6   pedi    768 non-null    float64\n",
            " 7   age     768 non-null    int64  \n",
            " 8   class   768 non-null    int64  \n",
            "dtypes: float64(2), int64(7)\n",
            "memory usage: 54.1 KB\n",
            "None\n"
          ]
        }
      ]
    }
  ]
}